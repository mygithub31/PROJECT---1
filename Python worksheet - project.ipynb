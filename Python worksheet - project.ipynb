{
 "cells": [
  {
   "cell_type": "code",
   "execution_count": 19,
   "metadata": {},
   "outputs": [
    {
     "name": "stdout",
     "output_type": "stream",
     "text": [
      "Enter Integer :6\n",
      "Factorial Value : 720\n"
     ]
    }
   ],
   "source": [
    "# Q11.\n",
    "i = int(input(\"Enter Integer :\"))\n",
    "fac = 1\n",
    "while (i>0):\n",
    "    fac=fac*i\n",
    "    i = i-1\n",
    "    \n",
    "print(\"Factorial Value :\",fac)"
   ]
  },
  {
   "cell_type": "code",
   "execution_count": 22,
   "metadata": {},
   "outputs": [
    {
     "name": "stdout",
     "output_type": "stream",
     "text": [
      "Enter a natural number :8\n",
      "8 is a composite number\n"
     ]
    }
   ],
   "source": [
    "# Q12.\n",
    "Number = int(input(\"Enter a natural number :\"))\n",
    "\n",
    "if Number <1:\n",
    "    print('Number should be greater than 1')\n",
    "    \n",
    "elif Number ==1:\n",
    "    print (Number,'Neither prime nor composite')\n",
    "    \n",
    "else:\n",
    "    for divisor in range (2,(Number//2)+1):\n",
    "        if ((Number % divisor)==0):\n",
    "            print (Number,'is a composite number')\n",
    "            break\n",
    "        else:\n",
    "            (Number,'is a prime number')\n"
   ]
  },
  {
   "cell_type": "code",
   "execution_count": 24,
   "metadata": {},
   "outputs": [
    {
     "name": "stdout",
     "output_type": "stream",
     "text": [
      "Enter String : neven\n",
      "Palindrome String\n"
     ]
    }
   ],
   "source": [
    "# Q13.\n",
    "a = input(\"Enter String : \")\n",
    "b = a[-1::-1]\n",
    "\n",
    "if [a==b]:\n",
    "    print(\"Palindrome String\")\n",
    "else:\n",
    "    print(\"not a Palindrome String\")"
   ]
  },
  {
   "cell_type": "code",
   "execution_count": 32,
   "metadata": {},
   "outputs": [],
   "source": [
    "import math"
   ]
  },
  {
   "cell_type": "code",
   "execution_count": 33,
   "metadata": {},
   "outputs": [
    {
     "name": "stdout",
     "output_type": "stream",
     "text": [
      "Enter base: 10.5\n",
      "Enter height: 5.5\n",
      "Enter angle: 90\n",
      "Hypotenuse = 11.853269591129697\n"
     ]
    }
   ],
   "source": [
    "# Q.14\n",
    "a = float(input(\"Enter base: \"))\n",
    "b = float(input(\"Enter height: \"))\n",
    "x = float(input(\"Enter angle: \"))\n",
    "\n",
    "c = math.sqrt(a ** 2 + b ** 2)\n",
    "\n",
    "print(\"Hypotenuse =\", c)"
   ]
  },
  {
   "cell_type": "code",
   "execution_count": 27,
   "metadata": {},
   "outputs": [],
   "source": [
    "# Q15\n",
    "dict1 = {'sumit' :4,'juhi':31,'amit':11,'ran':12}"
   ]
  },
  {
   "cell_type": "code",
   "execution_count": 31,
   "metadata": {
    "scrolled": false
   },
   "outputs": [
    {
     "name": "stdout",
     "output_type": "stream",
     "text": [
      "Enter the string: JSRASRMITTSR\n",
      "{'J': 1, 'S': 3, 'R': 3, 'A': 1, 'M': 1, 'I': 1, 'T': 2}\n"
     ]
    }
   ],
   "source": [
    "str1 = input(\"Enter the string: \")\n",
    "d1 = dict()\n",
    "for c in str1:\n",
    "    if c in d1:\n",
    "        d1[c]= d1[c]+1\n",
    "    else:\n",
    "        d1[c] = 1\n",
    "print(d1)"
   ]
  },
  {
   "cell_type": "code",
   "execution_count": null,
   "metadata": {},
   "outputs": [],
   "source": []
  }
 ],
 "metadata": {
  "kernelspec": {
   "display_name": "Python 3",
   "language": "python",
   "name": "python3"
  },
  "language_info": {
   "codemirror_mode": {
    "name": "ipython",
    "version": 3
   },
   "file_extension": ".py",
   "mimetype": "text/x-python",
   "name": "python",
   "nbconvert_exporter": "python",
   "pygments_lexer": "ipython3",
   "version": "3.8.5"
  }
 },
 "nbformat": 4,
 "nbformat_minor": 4
}
